{
 "cells": [
  {
   "cell_type": "code",
   "id": "initial_id",
   "metadata": {
    "collapsed": true
   },
   "source": [
    "from pathlib import Path\n",
    "import string\n",
    "\n",
    "import pandas as pd\n",
    "import seaborn as sns\n",
    "from nltk.tokenize import word_tokenize"
   ],
   "outputs": [],
   "execution_count": null
  },
  {
   "metadata": {},
   "cell_type": "code",
   "source": [
    "sns.set_theme(\"paper\")\n",
    "plotting_context = sns.plotting_context(\"paper\")"
   ],
   "id": "723f5e770d17d096",
   "outputs": [],
   "execution_count": null
  },
  {
   "metadata": {},
   "cell_type": "code",
   "source": [
    "base_path = Path(\"data/survey\")\n",
    "annotations_df = pd.read_csv(base_path / \"annotations.csv\")\n",
    "participants_df = pd.read_csv(base_path / \"participants.csv\")"
   ],
   "id": "654edb65ea5cbdf0",
   "outputs": [],
   "execution_count": null
  },
  {
   "metadata": {},
   "cell_type": "code",
   "source": "participants_df = participants_df[participants_df[\"passed_instructions\"] ]",
   "id": "42748a5707157b4f",
   "outputs": [],
   "execution_count": null
  },
  {
   "metadata": {},
   "cell_type": "code",
   "source": "print(f\"Participants signed up: {len(participants_df)}. Actual participants: {annotations_df['participant_id'].nunique()}\")",
   "id": "fc25dba5966f246e",
   "outputs": [],
   "execution_count": null
  },
  {
   "metadata": {},
   "cell_type": "code",
   "source": "annotations_df.describe()",
   "id": "44b62bf575db2284",
   "outputs": [],
   "execution_count": null
  },
  {
   "metadata": {},
   "cell_type": "code",
   "source": [
    "annotations_per_participant = annotations_df.groupby(\"participant_id\").size()\n",
    "annotations_per_participant.plot(kind=\"hist\")"
   ],
   "id": "d4f78cc2814cb767",
   "outputs": [],
   "execution_count": null
  },
  {
   "metadata": {},
   "cell_type": "code",
   "source": "print(f\"Average number of annotations per participant: Mean {annotations_per_participant.mean():.2} Median {annotations_per_participant.median()} Min {annotations_per_participant.min()} Max {annotations_per_participant.max()}\")",
   "id": "f9a81a8cb728b205",
   "outputs": [],
   "execution_count": null
  },
  {
   "metadata": {},
   "cell_type": "code",
   "source": "print(f\"Median annotation duration in seconds {annotations_df['time'].median():.03}\")",
   "id": "c5afccc06b8ccc8",
   "outputs": [],
   "execution_count": null
  },
  {
   "metadata": {},
   "cell_type": "code",
   "source": "annotations_df[\"stimulus_type\"].value_counts()",
   "id": "f1c793fc2a5679c7",
   "outputs": [],
   "execution_count": null
  },
  {
   "metadata": {},
   "cell_type": "code",
   "source": [
    "def parse_aspects(aspects):\n",
    "    return [aspect for aspect in aspects.strip(\"; \").split(\"; \")]\n",
    "\n",
    "for asp in [\"aspects1\", \"aspects2\"]:\n",
    "    annotations_df[asp] = annotations_df[asp].fillna(\"\").apply(parse_aspects)"
   ],
   "id": "11cea78235e1087a",
   "outputs": [],
   "execution_count": null
  },
  {
   "metadata": {},
   "cell_type": "code",
   "source": [
    "experiment_aspects = {\"temporal_order\": \"Temporal order\", \"location\": \"Recording setting\", \"number_sources\": \"Number of sources\", \"pitch\": \"Pitch\",\"color_density\": \"Color & Density\", \"duration\": \"Duration\", \"rhythm\": \"Rhythm\", \"loudness\": \"Loudness\", \"main_source\": \"Main source\", \"usage\": \"Usage context\", \"emotion\": \"Perceived emotion\",\"quality\": \"Recording quality\"}\n",
    "annotations_df[\"aspects1_clean\"] = annotations_df[\"aspects1\"].apply(lambda x: [aspect for aspect in x if aspect in experiment_aspects])\n",
    "annotations_df[\"aspects2_clean\"] = annotations_df[\"aspects2\"].apply(lambda x: [aspect for aspect in x if aspect in experiment_aspects])"
   ],
   "id": "c58984a6f9aeae87",
   "outputs": [],
   "execution_count": null
  },
  {
   "metadata": {},
   "cell_type": "code",
   "source": "annotations_df",
   "id": "d39239cc3e5de69c",
   "outputs": [],
   "execution_count": null
  },
  {
   "metadata": {},
   "cell_type": "code",
   "source": "annotations_df[\"aspects1_clean\"].explode().value_counts()",
   "id": "d7d39894098f58b5",
   "outputs": [],
   "execution_count": null
  },
  {
   "metadata": {},
   "cell_type": "code",
   "source": "annotations_df[\"aspects1\"].sample(1).item()",
   "id": "c452ee59f5937bcb",
   "outputs": [],
   "execution_count": null
  },
  {
   "metadata": {},
   "cell_type": "code",
   "source": "annotations_df[\"aspects2_clean\"].explode().value_counts()",
   "id": "5f5b68fb953d2469",
   "outputs": [],
   "execution_count": null
  },
  {
   "metadata": {},
   "cell_type": "code",
   "source": "annotations_df.explode(\"aspects1_clean\")[annotations_df[\"aspects1_clean\"].explode() == \"location\"]",
   "id": "e1e3cb0459028d36",
   "outputs": [],
   "execution_count": null
  },
  {
   "metadata": {},
   "cell_type": "code",
   "source": [
    "# pie chart of aspects\n",
    "aspects1_counts = annotations_df[\"aspects1_clean\"].explode().value_counts()\n",
    "aspects2_counts = annotations_df[\"aspects2_clean\"].explode().value_counts()\n",
    "aspects_counts = aspects1_counts.add(aspects2_counts, fill_value=0)\n",
    "aspects_counts = aspects_counts.sort_values(ascending=False)\n",
    "labels = [experiment_aspects[aspect] for aspect in aspects_counts.index]\n",
    "ax = aspects_counts.plot(kind=\"pie\", autopct='%1.f%%', colors=sns.color_palette(\"tab10\"), labels=labels)\n",
    "#tight_layout for saving the figure\n",
    "ax.figure.tight_layout()\n",
    "#ax.figure.savefig(\"aspects_pie.png\")\n",
    "ax.figure.savefig(\"aspects_pie.pdf\")"
   ],
   "id": "f8c1951b54f74eda",
   "outputs": [],
   "execution_count": null
  },
  {
   "metadata": {},
   "cell_type": "code",
   "source": [
    "# aspects1\n",
    "aspects1_counts.plot(kind=\"pie\", autopct='%1.1f%%', colors=sns.color_palette(\"tab10\"))"
   ],
   "id": "58941cf8768c2713",
   "outputs": [],
   "execution_count": null
  },
  {
   "metadata": {},
   "cell_type": "code",
   "source": [
    "# aspects2\n",
    "aspects2_counts.plot(kind=\"pie\", autopct='%1.1f%%', colors=sns.color_palette(\"tab10\"))"
   ],
   "id": "4074c4933858bbdf",
   "outputs": [],
   "execution_count": null
  },
  {
   "metadata": {},
   "cell_type": "code",
   "source": [
    "def tokenize_query(query):\n",
    "    tokens =  word_tokenize(query.lower())\n",
    "    punctuations = list(string.punctuation)\n",
    "    tokens = [token for token in tokens if token not in punctuations]\n",
    "    return tokens\n",
    "\n",
    "for field in [\"query1\", \"query2\"]:\n",
    "    annotations_df[f\"{field}_tokens\"] = annotations_df[field].apply(tokenize_query)\n",
    "    annotations_df[f\"{field}_length\"] = annotations_df[f\"{field}_tokens\"].apply(len)"
   ],
   "id": "b9653e59d634e2f2",
   "outputs": [],
   "execution_count": null
  },
  {
   "metadata": {},
   "cell_type": "code",
   "source": "annotations_df[\"query1_tokens\"].explode().value_counts()",
   "id": "64235f32b7137f52",
   "outputs": [],
   "execution_count": null
  },
  {
   "metadata": {},
   "cell_type": "code",
   "source": [
    "def is_refined(query1, query2):\n",
    "    return query2 != \"<<SKIPPED>>\" and query1 != query2\n",
    "\n",
    "annotations_df[\"refined\"] = annotations_df.apply(lambda x: is_refined(x[\"query1\"], x[\"query2\"]), axis=1)"
   ],
   "id": "cef8e3128522eff7",
   "outputs": [],
   "execution_count": null
  },
  {
   "metadata": {},
   "cell_type": "code",
   "source": "annotations_df[\"refined\"].value_counts() / len(annotations_df)",
   "id": "12d2c5c9cb4bf5ec",
   "outputs": [],
   "execution_count": null
  },
  {
   "metadata": {},
   "cell_type": "code",
   "source": [
    "# percentage of refined queries by stimulus type\n",
    "annotations_df.groupby(\"stimulus_type\")[\"refined\"].mean() * 100"
   ],
   "id": "7b9829249af79f58",
   "outputs": [],
   "execution_count": null
  },
  {
   "metadata": {},
   "cell_type": "code",
   "source": [
    "# plot refine proportion by query1 length\n",
    "sns.histplot(annotations_df, x=\"query1_length\", hue=\"refined\")"
   ],
   "id": "7d1020e6fde98ddd",
   "outputs": [],
   "execution_count": null
  },
  {
   "metadata": {},
   "cell_type": "code",
   "source": [
    "def refined_diff(refined, query1, query2):\n",
    "    if not refined:\n",
    "        return 0\n",
    "    diff = len(query2) - len(query1)\n",
    "    return diff\n",
    "\n",
    "annotations_df[\"refined_longer\"] = annotations_df.apply(lambda x: refined_diff(x[\"refined\"], x[\"query1_tokens\"], x[\"query2_tokens\"]), axis=1)\n",
    "refined_annotations = annotations_df[annotations_df[\"refined\"]]\n",
    "((refined_annotations[\"refined_longer\"].value_counts() / len(refined_annotations)) * 100).round()"
   ],
   "id": "d2c58a40e5c9c921",
   "outputs": [],
   "execution_count": null
  },
  {
   "metadata": {},
   "cell_type": "code",
   "source": [
    "# all shorter refined queries combined\n",
    "((refined_annotations[refined_annotations[\"refined_longer\"] < 0] [\"refined_longer\"].value_counts() / len(refined_annotations)) * 100).sum().round()"
   ],
   "id": "36aeb4fe04059d9d",
   "outputs": [],
   "execution_count": null
  },
  {
   "metadata": {},
   "cell_type": "code",
   "source": [
    "# longest refined query\n",
    "annotations_df[annotations_df[\"refined_longer\"] > 0].sort_values(\"refined_longer\", ascending=False).head(1)"
   ],
   "id": "3302baaa704ec904",
   "outputs": [],
   "execution_count": null
  },
  {
   "metadata": {},
   "cell_type": "code",
   "source": [
    "# refine without changing query length\n",
    "refined_annotations[refined_annotations[\"refined_longer\"] == 0]"
   ],
   "id": "7e282ad358ee2cc5",
   "outputs": [],
   "execution_count": null
  },
  {
   "metadata": {},
   "cell_type": "code",
   "source": [
    "print(f\"Average query length: {annotations_df['query1_length'].mean():.1f} Median {annotations_df['query1_length'].median()}\")\n",
    "print(f\"Average refined query length: {refined_annotations['query2_length'].mean():.1f} Median {refined_annotations['query2_length'].median()}\")"
   ],
   "id": "5bb159bd1a2ccbee",
   "outputs": [],
   "execution_count": null
  },
  {
   "metadata": {},
   "cell_type": "code",
   "source": [
    "# average query length by stimulus type\n",
    "annotations_df.groupby(\"stimulus_type\").agg({\"query1_length\": [\"mean\", \"median\"]})"
   ],
   "id": "5df9e637becffdd7",
   "outputs": [],
   "execution_count": null
  },
  {
   "metadata": {},
   "cell_type": "code",
   "source": "annotations_df[annotations_df[\"query2\"] != \"<<SKIPPED>>\"].groupby(\"stimulus_type\").agg({\"query2_length\": [\"mean\", \"median\"]})",
   "id": "69a194133c680290",
   "outputs": [],
   "execution_count": null
  },
  {
   "metadata": {},
   "cell_type": "code",
   "source": "sns.boxplot(data=annotations_df, x=\"query1_length\", y=\"stimulus_type\")",
   "id": "c6308300e668b318",
   "outputs": [],
   "execution_count": null
  },
  {
   "metadata": {},
   "cell_type": "code",
   "source": [
    "# plot relevance distribution\n",
    "print(f\"Relevance mean {annotations_df['result_relevance'].mean():.2} median {annotations_df['result_relevance'].median()}\")\n",
    "sns.catplot(data=annotations_df, x=\"result_relevance\", kind=\"count\", hue=\"stimulus_type\")"
   ],
   "id": "5e9d4970bad071ee",
   "outputs": [],
   "execution_count": null
  },
  {
   "metadata": {},
   "cell_type": "code",
   "source": [
    "# most common tokens per aspect\n",
    "aspect_tokens = annotations_df.explode(\"aspects1\").explode(\"query1_tokens\").groupby(\"aspects1\")[\"query1_tokens\"].value_counts()\n",
    "aspect_tokens = aspect_tokens[aspect_tokens > 3]\n",
    "aspect_tokens"
   ],
   "id": "e2b76f8c043bd67a",
   "outputs": [],
   "execution_count": null
  },
  {
   "metadata": {},
   "cell_type": "code",
   "source": "",
   "id": "70bbbef18dcdf355",
   "outputs": [],
   "execution_count": null
  }
 ],
 "metadata": {
  "kernelspec": {
   "display_name": "Python 3",
   "language": "python",
   "name": "python3"
  },
  "language_info": {
   "codemirror_mode": {
    "name": "ipython",
    "version": 2
   },
   "file_extension": ".py",
   "mimetype": "text/x-python",
   "name": "python",
   "nbconvert_exporter": "python",
   "pygments_lexer": "ipython2",
   "version": "2.7.6"
  }
 },
 "nbformat": 4,
 "nbformat_minor": 5
}
